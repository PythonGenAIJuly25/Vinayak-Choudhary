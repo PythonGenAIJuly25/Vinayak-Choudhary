{
  "cells": [
    {
      "cell_type": "markdown",
      "metadata": {
        "id": "u9fZ3r8HCQbZ"
      },
      "source": [
        "# Module 3: Data Structures Assignments\n",
        "## Lesson 3.1: Lists\n",
        "### Assignment 1: Creating and Accessing Lists\n",
        "\n",
        "Create a list of the first 20 positive integers. Print the list.\n",
        "\n",
        "### Assignment 2: Accessing List Elements\n",
        "\n",
        "Print the first, middle, and last elements of the list created in Assignment 1.\n",
        "\n",
        "\n",
        "\n",
        "### Assignment 3: List Slicing\n",
        "\n",
        "Print the first five elements, the last five elements, and the elements from index 5 to 15 of the list created in Assignment 1.\n",
        "\n",
        "### Assignment 4: List Comprehensions\n",
        "\n",
        "Create a new list containing the squares of the first 10 positive integers using a list comprehension. Print the new list.\n",
        "\n",
        "### Assignment 5: Filtering Lists\n",
        "\n",
        "Create a new list containing only the even numbers from the list created in Assignment 1 using a list comprehension. Print the new list.\n",
        "\n",
        "### Assignment 6: List Methods\n",
        "\n",
        "Create a list of random numbers and sort it in ascending and descending order. Remove the duplicates from the list and print the modified list.\n",
        "\n",
        "### Assignment 7: Nested Lists\n",
        "\n",
        "Create a nested list representing a 3x3 matrix and print the matrix. Access and print the element at the second row and third column.\n",
        "\n",
        "### Assignment 8: List of Dictionaries\n",
        "\n",
        "Create a list of dictionaries where each dictionary represents a student with keys 'name' and 'score'. Sort the list of dictionaries by the 'score' in descending order and print the sorted list.\n",
        "\n",
        "### Assignment 9: Matrix Transposition\n",
        "\n",
        "Write a function that takes a 3x3 matrix (nested list) as input and returns its transpose. Print the original and transposed matrices.\n",
        "\n",
        "### Assignment 10: Flattening a Nested List\n",
        "\n",
        "Write a function that takes a nested list and flattens it into a single list. Print the original and flattened lists.\n",
        "\n",
        "### Assignment 11: List Manipulation\n",
        "\n",
        "Create a list of the first 10 positive integers. Remove the elements at indices 2, 4, and 6, and insert the element '99' at index 5. Print the modified list.\n",
        "\n",
        "### Assignment 12: List Zipping\n",
        "\n",
        "Create two lists of the same length. Use the `zip` function to combine these lists into a list of tuples and print the result.\n",
        "\n",
        "### Assignment 13: List Reversal\n",
        "\n",
        "Write a function that takes a list and returns a new list with the elements in reverse order. Print the original and reversed lists.\n",
        "\n",
        "### Assignment 14: List Rotation\n",
        "\n",
        "Write a function that rotates a list by n positions. Print the original and rotated lists.\n",
        "\n",
        "### Assignment 15: List Intersection\n",
        "\n",
        "Write a function that takes two lists and returns a new list containing only the elements that are present in both lists. Print the intersected list."
      ],
      "id": "u9fZ3r8HCQbZ"
    },
    {
      "cell_type": "code",
      "source": [
        "#Assignment 1: Creating and Accessing Lists\n",
        "#Create a list of the first 20 positive integers. Print the list.\n",
        "\n",
        "listt=[]\n",
        "for i in range(1,21):\n",
        "  listt.append(i)\n",
        "print(listt)"
      ],
      "metadata": {
        "id": "5VQilj_HDD3a"
      },
      "id": "5VQilj_HDD3a",
      "execution_count": null,
      "outputs": []
    },
    {
      "cell_type": "code",
      "source": [
        "#Accessing List Elements\n",
        "#Print the first, middle, and last elements of the list created in Assignment 1.\n",
        "\n",
        "a=len(listt)//2\n",
        "print(listt[0])\n",
        "print(listt[-1])\n",
        "print(listt[a])\n",
        "\n"
      ],
      "metadata": {
        "id": "l3fzO0bHC9qe"
      },
      "id": "l3fzO0bHC9qe",
      "execution_count": null,
      "outputs": []
    },
    {
      "cell_type": "code",
      "source": [
        "#Assignment 3: List Slicing\n",
        "#Print the first five elements, the last five elements, and the elements from index 5 to 15 of the list created in Assignment 1.\n",
        "\n",
        "print(listt[0,5])\n",
        "print(listt[-5:])\n",
        "print(listt[5:16])"
      ],
      "metadata": {
        "id": "Rkhr8OO7CVNc"
      },
      "id": "Rkhr8OO7CVNc",
      "execution_count": null,
      "outputs": []
    },
    {
      "cell_type": "code",
      "execution_count": null,
      "metadata": {
        "id": "-y27tPfvCQbd"
      },
      "outputs": [],
      "source": [
        "#Assignment 4: List Comprehensions\n",
        "#Create a new list containing the squares of the first 10 positive integers using a list comprehension. Print the new list.\n",
        "\n",
        "listt=[i*i for i in range(1,11) ]\n",
        "print(listt)\n"
      ],
      "id": "-y27tPfvCQbd"
    },
    {
      "cell_type": "code",
      "source": [
        "#Assignment 5: Filtering Lists\n",
        "#Create a new list containing only the even numbers from the list created in Assignment 1 using a list comprehension. Print the new list.\n",
        "\n",
        "listt=[1,2,3,4,5,6,7,8,9,10,11,12,13,14,15,16,17,18,19,20]\n",
        "\n",
        "new_list=[i for i in lis if i%2==0]\n",
        "\n",
        "print(lis)"
      ],
      "metadata": {
        "id": "2LCmDValFTr5"
      },
      "id": "2LCmDValFTr5",
      "execution_count": null,
      "outputs": []
    },
    {
      "cell_type": "code",
      "source": [
        "#Assignment 6: List Methods\n",
        "#Create a list of random numbers and sort it in ascending and descending order. Remove the duplicates from the list and print the modified list.\n",
        "\n",
        "lis=[2,3,4,2,6,75,4,87]\n",
        "lis.sort()\n",
        "print(lis)\n",
        "lis.sort(reverse=True)\n",
        "print(lis)\n",
        "no_duplicates=list(set(lis))\n",
        "print(no_duplicates)"
      ],
      "metadata": {
        "colab": {
          "base_uri": "https://localhost:8080/"
        },
        "id": "JhHzIbq4F8b5",
        "outputId": "99db6f7e-b0f4-4a03-bafb-127bccc2ca60"
      },
      "id": "JhHzIbq4F8b5",
      "execution_count": 1,
      "outputs": [
        {
          "output_type": "stream",
          "name": "stdout",
          "text": [
            "[2, 2, 3, 4, 4, 6, 75, 87]\n",
            "[87, 75, 6, 4, 4, 3, 2, 2]\n",
            "[2, 3, 4, 6, 75, 87]\n"
          ]
        }
      ]
    },
    {
      "cell_type": "code",
      "source": [
        "#Assignment 7: Nested Lists\n",
        "#Create a nested list representing a 3x3 matrix and print the matrix. Access and print the element at the second row and third column.\n",
        "\n",
        "listt=[[1,2,3],[4,5,6],[7,8,9]]\n",
        "print(listt)\n",
        "\n",
        "for i in listt:\n",
        "  print(i)\n",
        "\n",
        "ele=listt[1][2]\n",
        "print(ele)"
      ],
      "metadata": {
        "colab": {
          "base_uri": "https://localhost:8080/"
        },
        "id": "diCHSyI1G6Xk",
        "outputId": "47151b80-83e6-439c-b382-d24e383ee5d4"
      },
      "id": "diCHSyI1G6Xk",
      "execution_count": 4,
      "outputs": [
        {
          "output_type": "stream",
          "name": "stdout",
          "text": [
            "[[1, 2, 3], [4, 5, 6], [7, 8, 9]]\n",
            "[1, 2, 3]\n",
            "[4, 5, 6]\n",
            "[7, 8, 9]\n",
            "6\n"
          ]
        }
      ]
    },
    {
      "cell_type": "code",
      "source": [
        "#Assignment 8: List of Dictionaries\n",
        "#Create a list of dictionaries where each dictionary represents a student with keys 'name' and 'score'. Sort the list of dictionaries by the 'score' in descending order and print the sorted list.\n",
        "\n",
        "listt=[{\"name\":\"aa\",\"score\":10},\n",
        " {\"name\":\"bb\",\"score\":20},\n",
        "  {\"name\":\"cc\",\"score\":30},\n",
        "   {\"name\":\"ee\",\"score\":40},\n",
        "    {\"name\":\"ff\",\"score\":50}]\n",
        "\n",
        "sortedL=sorted(listt,key=lambda x: x['score'],reverse=True)\n",
        "print(sortedL)"
      ],
      "metadata": {
        "colab": {
          "base_uri": "https://localhost:8080/"
        },
        "id": "tad7o2rGG72D",
        "outputId": "034ec0ea-4b11-4104-8be4-37f64bbbf828"
      },
      "id": "tad7o2rGG72D",
      "execution_count": 5,
      "outputs": [
        {
          "output_type": "stream",
          "name": "stdout",
          "text": [
            "[{'name': 'ff', 'score': 50}, {'name': 'ee', 'score': 40}, {'name': 'cc', 'score': 30}, {'name': 'bb', 'score': 20}, {'name': 'aa', 'score': 10}]\n"
          ]
        }
      ]
    },
    {
      "cell_type": "code",
      "source": [],
      "metadata": {
        "id": "A67z-1NBG75k"
      },
      "id": "A67z-1NBG75k",
      "execution_count": null,
      "outputs": []
    }
  ],
  "metadata": {
    "kernelspec": {
      "display_name": "Python 3",
      "language": "python",
      "name": "python3"
    },
    "language_info": {
      "codemirror_mode": {
        "name": "ipython",
        "version": 3
      },
      "file_extension": ".py",
      "mimetype": "text/x-python",
      "name": "python",
      "nbconvert_exporter": "python",
      "pygments_lexer": "ipython3",
      "version": "3.9.7"
    },
    "colab": {
      "provenance": []
    }
  },
  "nbformat": 4,
  "nbformat_minor": 5
}
