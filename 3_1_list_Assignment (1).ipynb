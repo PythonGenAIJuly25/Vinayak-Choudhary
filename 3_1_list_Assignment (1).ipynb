{
  "cells": [
    {
      "cell_type": "markdown",
      "metadata": {
        "id": "u9fZ3r8HCQbZ"
      },
      "source": [
        "# Module 3: Data Structures Assignments\n",
        "## Lesson 3.1: Lists\n",
        "### Assignment 1: Creating and Accessing Lists\n",
        "\n",
        "Create a list of the first 20 positive integers. Print the list.\n",
        "\n",
        "### Assignment 2: Accessing List Elements\n",
        "\n",
        "Print the first, middle, and last elements of the list created in Assignment 1.\n",
        "\n",
        "\n",
        "\n",
        "### Assignment 3: List Slicing\n",
        "\n",
        "Print the first five elements, the last five elements, and the elements from index 5 to 15 of the list created in Assignment 1.\n",
        "\n",
        "### Assignment 4: List Comprehensions\n",
        "\n",
        "Create a new list containing the squares of the first 10 positive integers using a list comprehension. Print the new list.\n",
        "\n",
        "### Assignment 5: Filtering Lists\n",
        "\n",
        "Create a new list containing only the even numbers from the list created in Assignment 1 using a list comprehension. Print the new list.\n",
        "\n",
        "### Assignment 6: List Methods\n",
        "\n",
        "Create a list of random numbers and sort it in ascending and descending order. Remove the duplicates from the list and print the modified list.\n",
        "\n",
        "### Assignment 7: Nested Lists\n",
        "\n",
        "Create a nested list representing a 3x3 matrix and print the matrix. Access and print the element at the second row and third column.\n",
        "\n",
        "### Assignment 8: List of Dictionaries\n",
        "\n",
        "Create a list of dictionaries where each dictionary represents a student with keys 'name' and 'score'. Sort the list of dictionaries by the 'score' in descending order and print the sorted list.\n",
        "\n",
        "### Assignment 9: Matrix Transposition\n",
        "\n",
        "Write a function that takes a 3x3 matrix (nested list) as input and returns its transpose. Print the original and transposed matrices.\n",
        "\n",
        "### Assignment 10: Flattening a Nested List\n",
        "\n",
        "Write a function that takes a nested list and flattens it into a single list. Print the original and flattened lists.\n",
        "\n",
        "### Assignment 11: List Manipulation\n",
        "\n",
        "Create a list of the first 10 positive integers. Remove the elements at indices 2, 4, and 6, and insert the element '99' at index 5. Print the modified list.\n",
        "\n",
        "### Assignment 12: List Zipping\n",
        "\n",
        "Create two lists of the same length. Use the `zip` function to combine these lists into a list of tuples and print the result.\n",
        "\n",
        "### Assignment 13: List Reversal\n",
        "\n",
        "Write a function that takes a list and returns a new list with the elements in reverse order. Print the original and reversed lists.\n",
        "\n",
        "### Assignment 14: List Rotation\n",
        "\n",
        "Write a function that rotates a list by n positions. Print the original and rotated lists.\n",
        "\n",
        "### Assignment 15: List Intersection\n",
        "\n",
        "Write a function that takes two lists and returns a new list containing only the elements that are present in both lists. Print the intersected list."
      ],
      "id": "u9fZ3r8HCQbZ"
    },
    {
      "cell_type": "code",
      "source": [
        "#Assignment 1: Creating and Accessing Lists\n",
        "#Create a list of the first 20 positive integers. Print the list.\n",
        "\n",
        "listt=[]\n",
        "for i in range(1,21):\n",
        "  listt.append(i)\n",
        "print(listt)"
      ],
      "metadata": {
        "id": "5VQilj_HDD3a",
        "colab": {
          "base_uri": "https://localhost:8080/"
        },
        "outputId": "aa6cdc45-e5de-4ec7-9151-652a6c544765"
      },
      "id": "5VQilj_HDD3a",
      "execution_count": 1,
      "outputs": [
        {
          "output_type": "stream",
          "name": "stdout",
          "text": [
            "[1, 2, 3, 4, 5, 6, 7, 8, 9, 10, 11, 12, 13, 14, 15, 16, 17, 18, 19, 20]\n"
          ]
        }
      ]
    },
    {
      "cell_type": "code",
      "source": [
        "#Accessing List Elements\n",
        "#Print the first, middle, and last elements of the list created in Assignment 1.\n",
        "\n",
        "a=len(listt)//2\n",
        "print(listt[0])\n",
        "print(listt[-1])\n",
        "print(listt[a])\n",
        "\n"
      ],
      "metadata": {
        "id": "l3fzO0bHC9qe",
        "colab": {
          "base_uri": "https://localhost:8080/"
        },
        "outputId": "ee26ab76-6c92-4c33-d2ae-84ed4e171268"
      },
      "id": "l3fzO0bHC9qe",
      "execution_count": 2,
      "outputs": [
        {
          "output_type": "stream",
          "name": "stdout",
          "text": [
            "1\n",
            "20\n",
            "11\n"
          ]
        }
      ]
    },
    {
      "cell_type": "code",
      "source": [
        "#Assignment 3: List Slicing\n",
        "#Print the first five elements, the last five elements, and the elements from index 5 to 15 of the list created in Assignment 1.\n",
        "\n",
        "print(listt[0:5])\n",
        "print(listt[-5:])\n",
        "print(listt[5:16])"
      ],
      "metadata": {
        "id": "Rkhr8OO7CVNc",
        "colab": {
          "base_uri": "https://localhost:8080/"
        },
        "outputId": "e28b26ea-1ef2-45ba-d94b-f7263ac85f64"
      },
      "id": "Rkhr8OO7CVNc",
      "execution_count": 4,
      "outputs": [
        {
          "output_type": "stream",
          "name": "stdout",
          "text": [
            "[1, 2, 3, 4, 5]\n",
            "[16, 17, 18, 19, 20]\n",
            "[6, 7, 8, 9, 10, 11, 12, 13, 14, 15, 16]\n"
          ]
        }
      ]
    },
    {
      "cell_type": "code",
      "execution_count": 5,
      "metadata": {
        "id": "-y27tPfvCQbd",
        "colab": {
          "base_uri": "https://localhost:8080/"
        },
        "outputId": "ba861af8-4cbe-441a-fbb2-e9ed4c421bff"
      },
      "outputs": [
        {
          "output_type": "stream",
          "name": "stdout",
          "text": [
            "[1, 4, 9, 16, 25, 36, 49, 64, 81, 100]\n"
          ]
        }
      ],
      "source": [
        "#Assignment 4: List Comprehensions\n",
        "#Create a new list containing the squares of the first 10 positive integers using a list comprehension. Print the new list.\n",
        "\n",
        "listt=[i*i for i in range(1,11) ]\n",
        "print(listt)\n"
      ],
      "id": "-y27tPfvCQbd"
    },
    {
      "cell_type": "code",
      "source": [
        "#Assignment 5: Filtering Lists\n",
        "#Create a new list containing only the even numbers from the list created in Assignment 1 using a list comprehension. Print the new list.\n",
        "\n",
        "listt=[1,2,3,4,5,6,7,8,9,10,11,12,13,14,15,16,17,18,19,20]\n",
        "\n",
        "new_list=[i for i in listt if i%2==0]\n",
        "\n",
        "print(new_list)"
      ],
      "metadata": {
        "id": "2LCmDValFTr5",
        "colab": {
          "base_uri": "https://localhost:8080/"
        },
        "outputId": "0caf63c8-ff55-4cd2-dc79-16a8df95cc96"
      },
      "id": "2LCmDValFTr5",
      "execution_count": 8,
      "outputs": [
        {
          "output_type": "stream",
          "name": "stdout",
          "text": [
            "[2, 4, 6, 8, 10, 12, 14, 16, 18, 20]\n"
          ]
        }
      ]
    },
    {
      "cell_type": "code",
      "source": [
        "#Assignment 6: List Methods\n",
        "#Create a list of random numbers and sort it in ascending and descending order. Remove the duplicates from the list and print the modified list.\n",
        "\n",
        "lis=[2,3,4,2,6,75,4,87]\n",
        "lis.sort()\n",
        "print(lis)\n",
        "lis.sort(reverse=True)\n",
        "print(lis)\n",
        "no_duplicates=list(set(lis))\n",
        "print(no_duplicates)"
      ],
      "metadata": {
        "colab": {
          "base_uri": "https://localhost:8080/"
        },
        "id": "JhHzIbq4F8b5",
        "outputId": "99db6f7e-b0f4-4a03-bafb-127bccc2ca60"
      },
      "id": "JhHzIbq4F8b5",
      "execution_count": null,
      "outputs": [
        {
          "output_type": "stream",
          "name": "stdout",
          "text": [
            "[2, 2, 3, 4, 4, 6, 75, 87]\n",
            "[87, 75, 6, 4, 4, 3, 2, 2]\n",
            "[2, 3, 4, 6, 75, 87]\n"
          ]
        }
      ]
    },
    {
      "cell_type": "code",
      "source": [
        "#Assignment 7: Nested Lists\n",
        "#Create a nested list representing a 3x3 matrix and print the matrix. Access and print the element at the second row and third column.\n",
        "\n",
        "listt=[[1,2,3],[4,5,6],[7,8,9]]\n",
        "print(listt)\n",
        "\n",
        "for i in listt:\n",
        "  print(i)\n",
        "\n",
        "ele=listt[1][2]\n",
        "print(ele)"
      ],
      "metadata": {
        "colab": {
          "base_uri": "https://localhost:8080/"
        },
        "id": "diCHSyI1G6Xk",
        "outputId": "47151b80-83e6-439c-b382-d24e383ee5d4"
      },
      "id": "diCHSyI1G6Xk",
      "execution_count": null,
      "outputs": [
        {
          "output_type": "stream",
          "name": "stdout",
          "text": [
            "[[1, 2, 3], [4, 5, 6], [7, 8, 9]]\n",
            "[1, 2, 3]\n",
            "[4, 5, 6]\n",
            "[7, 8, 9]\n",
            "6\n"
          ]
        }
      ]
    },
    {
      "cell_type": "code",
      "source": [
        "#Assignment 8: List of Dictionaries\n",
        "#Create a list of dictionaries where each dictionary represents a student with keys 'name' and 'score'. Sort the list of dictionaries by the 'score' in descending order and print the sorted list.\n",
        "\n",
        "listt=[{\"name\":\"aa\",\"score\":10},\n",
        " {\"name\":\"bb\",\"score\":20},\n",
        "  {\"name\":\"cc\",\"score\":30},\n",
        "   {\"name\":\"ee\",\"score\":40},\n",
        "    {\"name\":\"ff\",\"score\":50}]\n",
        "\n",
        "sortedL=sorted(listt,key=lambda x: x['score'],reverse=True)\n",
        "print(sortedL)"
      ],
      "metadata": {
        "colab": {
          "base_uri": "https://localhost:8080/"
        },
        "id": "tad7o2rGG72D",
        "outputId": "034ec0ea-4b11-4104-8be4-37f64bbbf828"
      },
      "id": "tad7o2rGG72D",
      "execution_count": null,
      "outputs": [
        {
          "output_type": "stream",
          "name": "stdout",
          "text": [
            "[{'name': 'ff', 'score': 50}, {'name': 'ee', 'score': 40}, {'name': 'cc', 'score': 30}, {'name': 'bb', 'score': 20}, {'name': 'aa', 'score': 10}]\n"
          ]
        }
      ]
    },
    {
      "cell_type": "code",
      "source": [
        "#Assignment 9: Matrix Transpositiona\n",
        "#Write a function that takes a 3x3 matrix (nested list) as input and returns its transpose. Print the original and transposed matrices.\n",
        "\n",
        "def transposee(listt):\n",
        "  transposed=[]\n",
        "  for i in range(3):\n",
        "    row=[]\n",
        "    for j in range(3):\n",
        "      row.append(listt[j][i])\n",
        "    transposed.append(row)\n",
        "  return transposed\n",
        "\n",
        "a=([[1,2,3],[4,5,6],[7,8,9]])\n",
        "print(\"original\",a)\n",
        "print(\"transposedd\",transposee(a))\n"
      ],
      "metadata": {
        "id": "A67z-1NBG75k",
        "colab": {
          "base_uri": "https://localhost:8080/"
        },
        "outputId": "b1f7bd55-07eb-410a-f64d-0474bb8efe4b"
      },
      "id": "A67z-1NBG75k",
      "execution_count": 11,
      "outputs": [
        {
          "output_type": "stream",
          "name": "stdout",
          "text": [
            "original [[1, 2, 3], [4, 5, 6], [7, 8, 9]]\n",
            "transposedd [[1, 4, 7], [2, 5, 8], [3, 6, 9]]\n"
          ]
        }
      ]
    },
    {
      "cell_type": "code",
      "source": [
        "#Assignment 10: Flattening a Nested List\n",
        "#Write a function that takes a nested list and flattens it into a single list. Print the original and flattened lists.\n",
        "\n",
        "def nested(listt):\n",
        "  flatten=[]\n",
        "  for item in listt:\n",
        "    for i in item:\n",
        "      flatten.append(i)\n",
        "  return flatten\n",
        "a=[[1,2,4],[4,5,6],[3,4]]\n",
        "print(a)\n",
        "print(nested(a))"
      ],
      "metadata": {
        "colab": {
          "base_uri": "https://localhost:8080/"
        },
        "id": "UOaV22Xr95CN",
        "outputId": "39d1a5e3-8204-47d0-c098-5b2b8bad3202"
      },
      "id": "UOaV22Xr95CN",
      "execution_count": 12,
      "outputs": [
        {
          "output_type": "stream",
          "name": "stdout",
          "text": [
            "[[1, 2, 4], [4, 5, 6], [3, 4]]\n",
            "[1, 2, 4, 4, 5, 6, 3, 4]\n"
          ]
        }
      ]
    },
    {
      "cell_type": "code",
      "source": [
        "#Assignment 11: List Manipulation\n",
        "#Create a list of the first 10 positive integers. Remove the elements at indices 2, 4, and 6, and insert the element '99' at index 5. Print the modified list.\n",
        "\n",
        "listt=[1,2,3,4,5,6,7,8,9,10]\n",
        "\n",
        "listt.pop(2)\n",
        "listt.pop(4)\n",
        "listt.pop(6)\n",
        "listt.insert(5,99)\n",
        "print(listt)"
      ],
      "metadata": {
        "colab": {
          "base_uri": "https://localhost:8080/"
        },
        "id": "B6qBpeBf95II",
        "outputId": "0b5fd0db-5c5b-4b16-8d81-bf31fa79d520"
      },
      "id": "B6qBpeBf95II",
      "execution_count": 18,
      "outputs": [
        {
          "output_type": "stream",
          "name": "stdout",
          "text": [
            "[1, 2, 4, 5, 7, 99, 8, 10]\n"
          ]
        }
      ]
    },
    {
      "cell_type": "code",
      "source": [
        "#Assignment 12: List Zipping\n",
        "#Create two lists of the same length. Use the zip function to combine these lists into a list of tuples and print the result.\n",
        "\n",
        "listt1=[1,2,3,4,5]\n",
        "listt2=[6,7,8,9,4]\n",
        "\n",
        "tupp=list(zip(listt1,listt2))\n",
        "\n",
        "print(tupp)"
      ],
      "metadata": {
        "colab": {
          "base_uri": "https://localhost:8080/"
        },
        "id": "VcpHfC1P95M2",
        "outputId": "cec1d365-4015-47e5-b899-6873b2463c4b"
      },
      "id": "VcpHfC1P95M2",
      "execution_count": 19,
      "outputs": [
        {
          "output_type": "stream",
          "name": "stdout",
          "text": [
            "[(1, 6), (2, 7), (3, 8), (4, 9), (5, 4)]\n"
          ]
        }
      ]
    },
    {
      "cell_type": "code",
      "source": [
        "#Assignment 13: List Reversal\n",
        "#Write a function that takes a list and returns a new list with the elements in reverse order. Print the original and reversed lists.\n",
        "\n",
        "def reversed(listt):\n",
        "  return listt[::-1]\n",
        "\n",
        "print(reversed([1,2,3,4,5,6]))"
      ],
      "metadata": {
        "colab": {
          "base_uri": "https://localhost:8080/"
        },
        "id": "VGH4xBde95UY",
        "outputId": "ed386e54-542c-437b-cf36-09213a64316b"
      },
      "id": "VGH4xBde95UY",
      "execution_count": 21,
      "outputs": [
        {
          "output_type": "stream",
          "name": "stdout",
          "text": [
            "[6, 5, 4, 3, 2, 1]\n"
          ]
        }
      ]
    },
    {
      "cell_type": "code",
      "source": [
        "\"\"\"Assignment 14: List Rotation\n",
        "Write a function that rotates a list by n positions. Print the original and rotated lists.\"\"\"\n",
        "\n",
        "def rotate(listt,n):\n",
        "  for i in range(n):\n",
        "    last=listt.pop()\n",
        "    listt.insert(0,last)\n",
        "  return listt\n",
        "\n",
        "print(rotate([1,2,3,4,5],3))\n"
      ],
      "metadata": {
        "colab": {
          "base_uri": "https://localhost:8080/"
        },
        "id": "3Po_luo1Ew-U",
        "outputId": "97dd3224-f48c-4f65-d964-92e9db836b1d"
      },
      "id": "3Po_luo1Ew-U",
      "execution_count": 22,
      "outputs": [
        {
          "output_type": "stream",
          "name": "stdout",
          "text": [
            "[3, 4, 5, 1, 2]\n"
          ]
        }
      ]
    },
    {
      "cell_type": "code",
      "source": [
        "#Assignment 15: List Intersection\n",
        "#Write a function that takes two lists and returns a new list containing only the elements that are present in both lists. Print the intersected list.\n",
        "\n",
        "def inter(listt1,listt2):\n",
        "  return list(set(listt1).intersection(set(listt2)))\n",
        "\n",
        "print(inter([1,2,3,45,6],[1,34,2,3,4]))"
      ],
      "metadata": {
        "colab": {
          "base_uri": "https://localhost:8080/"
        },
        "id": "eMlDc8YsExNp",
        "outputId": "c9f345de-9a85-410b-e30c-7c1b9f84befb"
      },
      "id": "eMlDc8YsExNp",
      "execution_count": 24,
      "outputs": [
        {
          "output_type": "stream",
          "name": "stdout",
          "text": [
            "[1, 2, 3]\n"
          ]
        }
      ]
    }
  ],
  "metadata": {
    "kernelspec": {
      "display_name": "Python 3",
      "language": "python",
      "name": "python3"
    },
    "language_info": {
      "codemirror_mode": {
        "name": "ipython",
        "version": 3
      },
      "file_extension": ".py",
      "mimetype": "text/x-python",
      "name": "python",
      "nbconvert_exporter": "python",
      "pygments_lexer": "ipython3",
      "version": "3.9.7"
    },
    "colab": {
      "provenance": []
    }
  },
  "nbformat": 4,
  "nbformat_minor": 5
}