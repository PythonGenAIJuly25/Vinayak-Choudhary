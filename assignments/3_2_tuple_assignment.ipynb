{
  "cells": [
    {
      "cell_type": "markdown",
      "id": "6cade624",
      "metadata": {
        "id": "6cade624"
      },
      "source": [
        "# Module 3: Data Structures Assignments\n",
        "## Lesson 3.2: Tuples\n",
        "### Assignment 1: Creating and Accessing Tuples\n",
        "\n",
        "Create a tuple with the first 10 positive integers. Print the tuple.\n",
        "\n",
        "### Assignment 2: Accessing Tuple Elements\n",
        "\n",
        "Print the first, middle, and last elements of the tuple created in Assignment 1.\n",
        "\n",
        "### Assignment 3: Tuple Slicing\n",
        "\n",
        "Print the first three elements, the last three elements, and the elements from index 2 to 5 of the tuple created in Assignment 1.\n",
        "\n",
        "### Assignment 4: Nested Tuples\n",
        "\n",
        "Create a nested tuple representing a 3x3 matrix and print the matrix. Access and print the element at the second row and third column.\n",
        "\n",
        "### Assignment 5: Tuple Concatenation\n",
        "\n",
        "Concatenate two tuples: (1, 2, 3) and (4, 5, 6). Print the resulting tuple.\n",
        "\n",
        "### Assignment 6: Tuple Methods\n",
        "\n",
        "Create a tuple with duplicate elements and count the occurrences of an element. Find the index of the first occurrence of an element in the tuple.\n",
        "\n",
        "### Assignment 7: Unpacking Tuples\n",
        "\n",
        "Create a tuple with 5 elements and unpack it into 5 variables. Print the variables.\n",
        "\n",
        "### Assignment 8: Tuple Conversion\n",
        "\n",
        "Convert a list of the first 5 positive integers to a tuple. Print the tuple.\n",
        "\n",
        "### Assignment 9: Tuple of Tuples\n",
        "\n",
        "Create a tuple containing 3 tuples, each with 3 elements. Print the tuple of tuples.\n",
        "\n",
        "### Assignment 10: Tuple and List\n",
        "\n",
        "Create a tuple with the first 5 positive integers. Convert it to a list, append the number 6, and convert it back to a tuple. Print the resulting tuple.\n",
        "\n",
        "### Assignment 11: Tuple and String\n",
        "\n",
        "Create a tuple with the characters of a string. Join the tuple elements into a single string. Print the string.\n",
        "\n",
        "### Assignment 12: Tuple and Dictionary\n",
        "\n",
        "Create a dictionary with tuple keys and integer values. Print the dictionary.\n",
        "\n",
        "### Assignment 13: Nested Tuple Iteration\n",
        "\n",
        "Create a nested tuple and iterate over the elements, printing each element.\n",
        "\n",
        "### Assignment 14: Tuple and Set\n",
        "\n",
        "Create a tuple with duplicate elements. Convert it to a set to remove duplicates and print the resulting set.\n",
        "\n",
        "### Assignment 15: Tuple Functions\n",
        "\n",
        "Write functions that take a tuple and return the minimum, maximum, and sum of the elements. Print the results for a sample tuple."
      ]
    },
    {
      "cell_type": "code",
      "execution_count": null,
      "id": "D6_WpSoAM2db",
      "metadata": {
        "id": "D6_WpSoAM2db"
      },
      "outputs": [],
      "source": [
        "#Assignment 1: Creating and Accessing Tuples\n",
        "#Create a tuple with the first 10 positive integers. Print the tuple.\n",
        "\n",
        "tuplee=(1,2,3,4,5,6,7,8,9,10)\n",
        "print(tuplee)\n",
        "\n",
        "#my name is vinayak"
      ]
    },
    {
      "cell_type": "code",
      "execution_count": null,
      "id": "K8RQiaOwM2p4",
      "metadata": {
        "id": "K8RQiaOwM2p4"
      },
      "outputs": [],
      "source": [
        "#Assignment 2: Accessing Tuple Elements\n",
        "#Print the first, middle, and last elements of the tuple created in Assignment 1.\n",
        "\n",
        "tuplee=(1,2,3,4,5,6,7,8,9,10)\n",
        "a=len(tuplee)//2\n",
        "\n",
        "print(tuplee[0])\n",
        "print(tuplee[-1])\n",
        "print(tuplee[a])\n",
        "\n"
      ]
    },
    {
      "cell_type": "code",
      "execution_count": null,
      "id": "K0rr56MhMiri",
      "metadata": {
        "colab": {
          "base_uri": "https://localhost:8080/"
        },
        "id": "K0rr56MhMiri",
        "outputId": "83601e3a-2770-4b0e-8506-7f3098040897"
      },
      "outputs": [
        {
          "name": "stdout",
          "output_type": "stream",
          "text": [
            "(1, 2, 3)\n",
            "(8, 9, 10)\n",
            "(3, 4, 5, 6)\n"
          ]
        }
      ],
      "source": [
        "#Assignment 3: Tuple Slicing\n",
        "#Print the first three elements, the last three elements, and the elements from index 2 to 5 of the tuple created in Assignment 1.\n",
        "\n",
        "tuplee=(1,2,3,4,5,6,7,8,9,10)\n",
        "\n",
        "print(tuplee[:3])\n",
        "print(tuplee[-3:])\n",
        "print(tuplee[2:6])\n"
      ]
    },
    {
      "cell_type": "code",
      "execution_count": 2,
      "id": "2u3LSkfiz5dK",
      "metadata": {
        "colab": {
          "base_uri": "https://localhost:8080/"
        },
        "id": "2u3LSkfiz5dK",
        "outputId": "24d25149-6c89-4a1f-c86b-f957971401c4"
      },
      "outputs": [
        {
          "name": "stdout",
          "output_type": "stream",
          "text": [
            "(1, 2, 3)\n",
            "(4, 5, 6)\n",
            "(7, 8, 9)\n",
            "6\n"
          ]
        }
      ],
      "source": [
        "#Assignment 4: Nested Tuples\n",
        "#Create a nested tuple representing a 3x3 matrix and print the matrix. Access and print the element at the second row and third column.\n",
        "\n",
        "nested=((1,2,3),(4,5,6),(7,8,9))\n",
        "\n",
        "for x in nested:\n",
        "  print(x)\n",
        "\n",
        "abc=nested[1][2]\n",
        "\n",
        "print(abc)\n"
      ]
    },
    {
      "cell_type": "code",
      "execution_count": 3,
      "id": "otwSl6yr0URy",
      "metadata": {
        "colab": {
          "base_uri": "https://localhost:8080/"
        },
        "id": "otwSl6yr0URy",
        "outputId": "5cbbe101-5f27-489a-ca48-34d8507e1e92"
      },
      "outputs": [
        {
          "name": "stdout",
          "output_type": "stream",
          "text": [
            "(1, 2, 3, 4, 5, 6)\n"
          ]
        }
      ],
      "source": [
        "#Assignment 5: Tuple Concatenation\n",
        "#Concatenate two tuples: (1, 2, 3) and (4, 5, 6). Print the resulting tuple.\n",
        "\n",
        "tup1=(1,2,3)\n",
        "tup2=(4,5,6)\n",
        "\n",
        "res=tup1+tup2\n",
        "\n",
        "print(res)\n"
      ]
    },
    {
      "cell_type": "code",
      "execution_count": 4,
      "id": "zfUfhWFQ0UbZ",
      "metadata": {
        "colab": {
          "base_uri": "https://localhost:8080/"
        },
        "id": "zfUfhWFQ0UbZ",
        "outputId": "55cb9dba-d17a-486b-caed-6e318e6002da"
      },
      "outputs": [
        {
          "name": "stdout",
          "output_type": "stream",
          "text": [
            "3\n",
            "0\n"
          ]
        }
      ],
      "source": [
        "#Assignment 6: Tuple Methods\n",
        "#Create a tuple with duplicate elements and count the occurrences of an element. Find the index of the first occurrence of an element in the tuple.\n",
        "\n",
        "tup=(1,2,2,3,4,4,5,6,6,6)\n",
        "\n",
        "count=tup.count(6)\n",
        "index=tup.index(1)\n",
        "\n",
        "print(count)\n",
        "print(index)\n",
        "\n",
        "\n"
      ]
    },
    {
      "cell_type": "code",
      "execution_count": 5,
      "id": "h5_RB8LO0Uis",
      "metadata": {
        "colab": {
          "base_uri": "https://localhost:8080/"
        },
        "id": "h5_RB8LO0Uis",
        "outputId": "3c547212-9f48-4196-dd90-2bd210af497f"
      },
      "outputs": [
        {
          "name": "stdout",
          "output_type": "stream",
          "text": [
            "1\n",
            "2\n",
            "3\n",
            "4\n",
            "5\n"
          ]
        }
      ],
      "source": [
        "#Assignment 7: Unpacking Tuples\n",
        "#Create a tuple with 5 elements and unpack it into 5 variables. Print the variables.\n",
        "\n",
        "tup=(1,2,3,4,5)\n",
        "\n",
        "a,b,c,d,e=tup\n",
        "\n",
        "print(a)\n",
        "print(b)\n",
        "print(c)\n",
        "print(d)\n",
        "print(e)"
      ]
    },
    {
      "cell_type": "code",
      "execution_count": 6,
      "id": "BZOOU9az1o6U",
      "metadata": {
        "colab": {
          "base_uri": "https://localhost:8080/"
        },
        "id": "BZOOU9az1o6U",
        "outputId": "439146a3-c2aa-4109-9f3b-d950d5ac06be"
      },
      "outputs": [
        {
          "name": "stdout",
          "output_type": "stream",
          "text": [
            "(1, 2, 3, 4, 5)\n"
          ]
        }
      ],
      "source": [
        "#Assignment 8: Tuple Conversion\n",
        "#Convert a list of the first 5 positive integers to a tuple. Print the tuple.\n",
        "\n",
        "listt=[1,2,3,4,5]\n",
        "tup=tuple(listt)\n",
        "print(tup)"
      ]
    },
    {
      "cell_type": "code",
      "execution_count": 7,
      "id": "-SUrIjBE1pAo",
      "metadata": {
        "colab": {
          "base_uri": "https://localhost:8080/"
        },
        "id": "-SUrIjBE1pAo",
        "outputId": "1c9feba6-b2fc-4e1f-9c89-6f64abf475ff"
      },
      "outputs": [
        {
          "name": "stdout",
          "output_type": "stream",
          "text": [
            "(1, 2, 3)\n",
            "(4, 5, 5)\n",
            "(4, 5, 6)\n"
          ]
        }
      ],
      "source": [
        "#Assignment 9: Tuple of Tuples\n",
        "#Create a tuple containing 3 tuples, each with 3 elements. Print the tuple of tuples.\n",
        "\n",
        "tup=((1,2,3),(4,5,5),(4,5,6))\n",
        "\n",
        "for t in tup:\n",
        "  print(t)"
      ]
    },
    {
      "cell_type": "code",
      "execution_count": 8,
      "id": "6UeOGFiX1pEL",
      "metadata": {
        "colab": {
          "base_uri": "https://localhost:8080/"
        },
        "id": "6UeOGFiX1pEL",
        "outputId": "c31cc23d-b2a1-4a73-ea27-b18f225d6300"
      },
      "outputs": [
        {
          "name": "stdout",
          "output_type": "stream",
          "text": [
            "(1, 2, 3, 4, 5, 6)\n"
          ]
        }
      ],
      "source": [
        "#Assignment 10: Tuple and List\n",
        "#Create a tuple with the first 5 positive integers. Convert it to a list, append the number 6, and convert it back to a tuple. Print the resulting tuple.\n",
        "\n",
        "tup=(1,2,3,4,5)\n",
        "listt=list(tup)\n",
        "listt.append(6)\n",
        "tup2=tuple(listt)\n",
        "print(tup2)"
      ]
    },
    {
      "cell_type": "code",
      "execution_count": 10,
      "id": "PGcUZW-O3-x4",
      "metadata": {
        "colab": {
          "base_uri": "https://localhost:8080/"
        },
        "id": "PGcUZW-O3-x4",
        "outputId": "7f5e2edc-27a2-4981-a26f-9f77217c6807"
      },
      "outputs": [
        {
          "name": "stdout",
          "output_type": "stream",
          "text": [
            "vinayak\n"
          ]
        }
      ],
      "source": [
        "#Assignment 11: Tuple and String\n",
        "#Create a tuple with the characters of a string. Join the tuple elements into a single string. Print the string.\n",
        "\n",
        "tup=(\"v\",\"i\",\"n\",\"a\",\"y\",\"a\",\"k\")\n",
        "strr=\"\"\n",
        "for i in tup:\n",
        "  strr=strr+i\n",
        "print(strr)"
      ]
    },
    {
      "cell_type": "code",
      "execution_count": 12,
      "id": "3_ypdJeT3-5p",
      "metadata": {
        "colab": {
          "base_uri": "https://localhost:8080/"
        },
        "id": "3_ypdJeT3-5p",
        "outputId": "1cddc7c3-1230-4e1c-e361-c8017b4c4d3f"
      },
      "outputs": [
        {
          "name": "stdout",
          "output_type": "stream",
          "text": [
            "(1, 2) 1\n",
            "(3, 4) 2\n",
            "(5, 6) 3\n"
          ]
        }
      ],
      "source": [
        "#Assignment 12: Tuple and Dictionary\n",
        "#Create a dictionary with tuple keys and integer values. Print the dictionary.\n",
        "\n",
        "dictt={(1,2):1,(3,4):2,(5,6):3}\n",
        "\n",
        "for key,value in dictt.items():\n",
        "  print(key,value)"
      ]
    },
    {
      "cell_type": "code",
      "execution_count": 13,
      "id": "J1-tIAwZ3_Be",
      "metadata": {
        "colab": {
          "base_uri": "https://localhost:8080/"
        },
        "id": "J1-tIAwZ3_Be",
        "outputId": "f908a805-cad8-404a-9197-d42adc8378b0"
      },
      "outputs": [
        {
          "name": "stdout",
          "output_type": "stream",
          "text": [
            "1\n",
            "2\n",
            "3\n",
            "4\n",
            "3\n",
            "4\n",
            "5\n",
            "6\n",
            "7\n",
            "8\n",
            "7\n"
          ]
        }
      ],
      "source": [
        "#Assignment 13: Nested Tuple Iteration\n",
        "#Create a nested tuple and iterate over the elements, printing each element.\n",
        "\n",
        "nested=((1,2),(3,4,3),(4,5,6,7,8,7))\n",
        "\n",
        "for item in nested:\n",
        "  for i in item:\n",
        "    print(i)"
      ]
    },
    {
      "cell_type": "code",
      "execution_count": 14,
      "id": "QdQUo6d53_Kk",
      "metadata": {
        "colab": {
          "base_uri": "https://localhost:8080/"
        },
        "id": "QdQUo6d53_Kk",
        "outputId": "3072c6d2-efb3-4bfe-a400-df8f7e90ce67"
      },
      "outputs": [
        {
          "name": "stdout",
          "output_type": "stream",
          "text": [
            "{1, 2, 3, 4, 5, 6, 7}\n"
          ]
        }
      ],
      "source": [
        "#Assignment 14: Tuple and Set\n",
        "#Create a tuple with duplicate elements. Convert it to a set to remove duplicates and print the resulting set.\n",
        "\n",
        "tup=(1,2,2,3,4,5,5,6,6,7)\n",
        "\n",
        "sett=set(tup)\n",
        "\n",
        "print(sett)"
      ]
    },
    {
      "cell_type": "code",
      "execution_count": 19,
      "id": "P9v0YhT53_R3",
      "metadata": {
        "colab": {
          "base_uri": "https://localhost:8080/"
        },
        "id": "P9v0YhT53_R3",
        "outputId": "4018554a-6200-4e22-c9b2-52d8d86355af"
      },
      "outputs": [
        {
          "name": "stdout",
          "output_type": "stream",
          "text": [
            "minn 1\n",
            "maxx 6\n",
            "sum 21\n"
          ]
        }
      ],
      "source": [
        "#Assignment 15: Tuple Functions\n",
        "#Write functions that take a tuple and return the minimum, maximum, and sum of the elements. Print the results for a sample tuple.\n",
        "\n",
        "def min_max_sum(tup):\n",
        "  minn=tup[0]\n",
        "  maxx=tup[0]\n",
        "  summ=0\n",
        "\n",
        "  for i in tup:\n",
        "    if(i<minn):\n",
        "      minn=i\n",
        "    if(i>maxx):\n",
        "      maxx=i\n",
        "    summ=summ+i\n",
        "\n",
        "  return minn,maxx,summ\n",
        "\n",
        "a=min_max_sum((1,2,3,4,5,6))\n",
        "print(\"minn\",a[0])\n",
        "print(\"maxx\",a[1])\n",
        "print(\"sum\",a[2])\n",
        "\n"
      ]
    }
  ],
  "metadata": {
    "colab": {
      "provenance": []
    },
    "kernelspec": {
      "display_name": "Python 3",
      "language": "python",
      "name": "python3"
    },
    "language_info": {
      "codemirror_mode": {
        "name": "ipython",
        "version": 3
      },
      "file_extension": ".py",
      "mimetype": "text/x-python",
      "name": "python",
      "nbconvert_exporter": "python",
      "pygments_lexer": "ipython3",
      "version": "3.9.7"
    }
  },
  "nbformat": 4,
  "nbformat_minor": 5
}
