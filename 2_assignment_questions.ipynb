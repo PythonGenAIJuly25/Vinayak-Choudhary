{
  "cells": [
    {
      "cell_type": "markdown",
      "id": "-eD6NImkXuM6",
      "metadata": {
        "id": "-eD6NImkXuM6"
      },
      "source": [
        "# Module 2: Control Flow Assignments\n",
        "## Lesson 2.1: Conditional Statements\n",
        "### Assignment 1: Simple if Statement\n",
        "\n",
        "Write a program that asks the user to input a number and prints whether the number is positive.\n",
        "\n",
        "bold text\n",
        "### Assignment 2: if-else Statement\n",
        "\n",
        "Write a program that asks the user to input a number and prints whether the number is positive or negative.\n",
        "\n",
        "### Assignment 3: if-elif-else Statement\n",
        "\n",
        "Write a program that asks the user to input a number and prints whether the number is positive, negative, or zero.\n",
        "\n",
        "### Assignment 4: Nested if Statement\n",
        "\n",
        "Write a program that asks the user to input a number and prints whether the number is positive and even, positive and odd, or negative.\n",
        "\n",
        "## Lesson 2.2: Loops\n",
        "### Assignment 5: for Loop\n",
        "\n",
        "Write a program that prints all the numbers from 1 to 10 using a for loop.\n",
        "\n",
        "### Assignment 6: while Loop\n",
        "\n",
        "Write a program that prints all the numbers from 1 to 10 using a while loop.\n",
        "\n",
        "### Assignment 7: Nested Loops\n",
        "\n",
        "Write a program that prints a 5x5 grid of asterisks (*) using nested loops.\n",
        "\n",
        "### Assignment 8: break Statement\n",
        "\n",
        "Write a program that asks the user to input numbers until they input 0. The program should print the sum of all the input numbers.\n",
        "\n",
        "### Assignment 9: continue Statement\n",
        "\n",
        "Write a program that prints all the numbers from 1 to 10 except 5 using a for loop and continue statement.\n",
        "\n",
        "### Assignment 10: pass Statement\n",
        "\n",
        "Write a program that defines an empty function using the pass statement.\n",
        "\n",
        "### Assignment 11: Combining Loops and Conditionals\n",
        "\n",
        "Write a program that asks the user to input a number and prints all the even numbers from 1 to that number using a for loop.\n",
        "\n",
        "### Assignment 12: Factorial Calculation\n",
        "\n",
        "Write a program that calculates the factorial of a number input by the user using a while loop.\n",
        "\n",
        "### Assignment 13: Sum of Digits\n",
        "\n",
        "Write a program that calculates the sum of the digits of a number input by the user using a while loop.\n",
        "\n",
        "### Assignment 14: Prime Number Check\n",
        "\n",
        "Write a program that checks if a number input by the user is a prime number using a for loop.\n",
        "\n",
        "### Assignment 15: Fibonacci Sequence\n",
        "\n",
        "Write a program that prints the first n Fibonacci numbers, where n is input by the user."
      ]
    },
    {
      "cell_type": "code",
      "execution_count": null,
      "id": "uNmqSKT-YIdl",
      "metadata": {
        "id": "uNmqSKT-YIdl"
      },
      "outputs": [],
      "source": [
        "#Assignment 1: Simple if Statement\n",
        "#Write a program that asks the user to input a number and prints whether the number is positive.\n",
        "\n",
        "no=int(input(\"Enter a number\"))\n",
        "if(no>=0):\n",
        "  print(\"The number is positive\")\n",
        "\n"
      ]
    },
    {
      "cell_type": "code",
      "execution_count": null,
      "id": "ACbmuw4pXwmt",
      "metadata": {
        "id": "ACbmuw4pXwmt"
      },
      "outputs": [],
      "source": [
        "#Assignment 2: if-else Statement\n",
        "#Write a program that asks the user to input a number and prints whether the number is positive or negative.\n",
        "\n",
        "no=int(input(\"Enter a number\"))\n",
        "if(no>=0):\n",
        "  print(\"The number is positive\")\n",
        "else:\n",
        "  print(\"The number is neagtive\")\n",
        "\n",
        "\n",
        "\n"
      ]
    },
    {
      "cell_type": "code",
      "execution_count": null,
      "id": "QkuFfJuUXuND",
      "metadata": {
        "id": "QkuFfJuUXuND"
      },
      "outputs": [],
      "source": [
        "#Assignment 3: if-elif-else Statement\n",
        "#Write a program that asks the user to input a number and prints whether the number is positive, negative, or zero.\n",
        "\n",
        "no=int(input(\"Enter a number\"))\n",
        "if(no>0):\n",
        "  print(\"The number is positive\")\n",
        "elif(no<0):\n",
        "  print(\"The number is neagtive\")\n",
        "else:\n",
        "  print(\"The number is zero\")\n",
        "\n"
      ]
    },
    {
      "cell_type": "code",
      "execution_count": null,
      "id": "oQeK3Y8hZNSC",
      "metadata": {
        "id": "oQeK3Y8hZNSC"
      },
      "outputs": [],
      "source": [
        "#Assignment 4: Nested if Statement\n",
        "#Write a program that asks the user to input a number and prints whether the number is positive and even, positive and odd, or negative.\n",
        "\n",
        "no=int(input(\"Enter a number\"))\n",
        "if(no>=0):\n",
        "  if(no==0):\n",
        "    print(\"The number is zero\")\n",
        "   else:\n",
        "    if(no%2==0):\n",
        "      print(\"the no is positive and even\")\n",
        "    else:\n",
        "      print(\"the no is negative and odd\")\n",
        "else:\n",
        "  print(\"the no is negative\")\n",
        "\n",
        "\n",
        "\n"
      ]
    },
    {
      "cell_type": "code",
      "execution_count": null,
      "id": "3lire6BzZN8N",
      "metadata": {
        "id": "3lire6BzZN8N"
      },
      "outputs": [],
      "source": [
        "#Assignment 5: for Loop\n",
        "#Write a program that prints all the numbers from 1 to 10 using a for loop.\n",
        "\n",
        "for i in range (1,11):\n",
        "  print(i)"
      ]
    },
    {
      "cell_type": "code",
      "execution_count": null,
      "id": "-Q-KcromZOB1",
      "metadata": {
        "id": "-Q-KcromZOB1"
      },
      "outputs": [],
      "source": [
        "#Assignment 6: while Loop\n",
        "#Write a program that prints all the numbers from 1 to 10 using a while loop.\n",
        "i=1\n",
        "while(i<=10):\n",
        "  print(i)\n",
        "  i=i+1"
      ]
    },
    {
      "cell_type": "code",
      "execution_count": null,
      "id": "hIwI1moha119",
      "metadata": {
        "id": "hIwI1moha119"
      },
      "outputs": [],
      "source": [
        "#Assignment 7: Nested Loops\n",
        "#Write a program that prints a 5x5 grid of asterisks (*) using nested loops.\n",
        "\n",
        "for i in range(5):\n",
        "  for i in range(5):\n",
        "    print(\"*\",end=\" \")\n",
        "  print()"
      ]
    },
    {
      "cell_type": "code",
      "execution_count": null,
      "id": "FvKsPZJXa19d",
      "metadata": {
        "id": "FvKsPZJXa19d"
      },
      "outputs": [],
      "source": [
        "#Assignment 8: break Statement\n",
        "#Write a program that asks the user to input numbers until they input 0. The program should print the sum of all the input numbers.\n",
        "\n",
        "sum=0\n",
        "while True:\n",
        "  no=int(input(\"Enter the number\"))\n",
        "  if(no==0):\n",
        "    break\n",
        "  sum+=no\n",
        "print(sum)\n",
        "\n"
      ]
    },
    {
      "cell_type": "code",
      "execution_count": null,
      "id": "3cMID5Iuc_x_",
      "metadata": {
        "id": "3cMID5Iuc_x_"
      },
      "outputs": [],
      "source": [
        "#Assignment 9: continue Statement\n",
        "#Write a program that prints all the numbers from 1 to 10 except 5 using a for loop and continue statement.\n",
        "\n",
        "for i in range(1,11):\n",
        "  if(i==5):\n",
        "    continue\n",
        "  print(i)"
      ]
    },
    {
      "cell_type": "code",
      "execution_count": null,
      "id": "dF3va2uCc_4I",
      "metadata": {
        "id": "dF3va2uCc_4I"
      },
      "outputs": [],
      "source": [
        "#Assignment 10: pass Statement\n",
        "#Write a program that defines an empty function using the pass statement.\n",
        "\n",
        "def func():\n",
        "  pass"
      ]
    },
    {
      "cell_type": "code",
      "execution_count": null,
      "id": "co2wW_HSc_-W",
      "metadata": {
        "id": "co2wW_HSc_-W"
      },
      "outputs": [],
      "source": [
        "#Assignment 11: Combining Loops and Conditionals\n",
        "#Write a program that asks the user to input a number and prints all the even numbers from 1 to that number using a for loop.\n",
        "\n",
        "no=int(input(\"enter a number\"))\n",
        "for i in range(1,no+1):\n",
        "  if(i%2==0):\n",
        "    print(i)"
      ]
    },
    {
      "cell_type": "code",
      "execution_count": null,
      "id": "vOR0Ta33dAFm",
      "metadata": {
        "id": "vOR0Ta33dAFm"
      },
      "outputs": [],
      "source": [
        "#Assignment 12: Factorial Calculation\n",
        "#Write a program that calculates the factorial of a number input by the user using a while loop.\n",
        "\n",
        "no=int(input(\"enter a number\"))\n",
        "if(no<=0):\n",
        "  print(\"factorial is not possible\")\n",
        "fact=1\n",
        "i=1\n",
        "while(i<=no):\n",
        "  fact=fact*i\n",
        "  i+=1\n",
        "print(fact)\n",
        "\n"
      ]
    },
    {
      "cell_type": "code",
      "execution_count": null,
      "id": "q-FU9hKffAo1",
      "metadata": {
        "id": "q-FU9hKffAo1"
      },
      "outputs": [],
      "source": [
        "#Assignment 13: Sum of Digits\n",
        "#Write a program that calculates the sum of the digits of a number input by the user using a while loop.\n",
        "\n",
        "no=int(input(\"enter a number\"))\n",
        "if(no<=0):\n",
        "  print(\" not possible\")\n",
        "sum=0\n",
        "i=1\n",
        "while(i<=no):\n",
        "  sum=sum+i\n",
        "  i+=1\n",
        "print(sum)\n",
        "\n"
      ]
    },
    {
      "cell_type": "code",
      "execution_count": null,
      "id": "8s9cjuGffAvY",
      "metadata": {
        "id": "8s9cjuGffAvY"
      },
      "outputs": [],
      "source": [
        "#Assignment 14: Prime Number Check\n",
        "#Write a program that checks if a number input by the user is a prime number using a for loop.\n",
        "\n",
        "no=int(input(\"enter a number\"))\n",
        "if(no<2):\n",
        "  print(\"not possible\")\n",
        "count=0\n",
        "\n",
        "for i in range(2,no):\n",
        "  if(no%i==0):\n",
        "    count+=1\n",
        "if(count==0):\n",
        "  print(\"prime no\")\n",
        "else:\n",
        "  print(\"not a prime\")\n"
      ]
    },
    {
      "cell_type": "code",
      "execution_count": null,
      "id": "Xp7P7NDmfA6X",
      "metadata": {
        "id": "Xp7P7NDmfA6X"
      },
      "outputs": [],
      "source": [
        "#Assignment 15: Fibonacci Sequence\n",
        "#Write a program that prints the first n Fibonacci numbers, where n is input by the user.\n",
        "\n",
        "no=int(input(\"enter a number\"))\n",
        "if(no<2):\n",
        "  print(\"enter a valid no\")\n",
        "\n",
        "\n",
        "fibo=[0,1]\n",
        "for i in range(2,no):\n",
        "  fibo.append(fibo[-1]+fibo[-2])\n",
        "\n",
        "print(fibo)"
      ]
    }
  ],
  "metadata": {
    "colab": {
      "provenance": []
    },
    "kernelspec": {
      "display_name": "Python 3",
      "language": "python",
      "name": "python3"
    },
    "language_info": {
      "codemirror_mode": {
        "name": "ipython",
        "version": 3
      },
      "file_extension": ".py",
      "mimetype": "text/x-python",
      "name": "python",
      "nbconvert_exporter": "python",
      "pygments_lexer": "ipython3",
      "version": "3.9.7"
    }
  },
  "nbformat": 4,
  "nbformat_minor": 5
}
