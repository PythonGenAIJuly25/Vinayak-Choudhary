{
  "cells": [
    {
      "cell_type": "markdown",
      "metadata": {
        "id": "t8AzTMy5dG1N"
      },
      "source": [
        "# Python Basics\n",
        "## Topics Covered:\n",
        "- Syntax and Semantics\n",
        "- Variables and Data Types\n",
        "- Basic Operators (Arithmetic, Comparison, Logical)\n"
      ]
    },
    {
      "cell_type": "markdown",
      "metadata": {
        "id": "KS6gWmaRdG1U"
      },
      "source": [
        "## 1. Syntax and Semantics\n",
        "\n",
        "**Question 1:** Write a Python program to print \"Hello, World!\"."
      ]
    },
    {
      "cell_type": "code",
      "execution_count": null,
      "metadata": {
        "id": "9WqeK3pzdG1X"
      },
      "outputs": [],
      "source": [
        "# Your code here\n",
        "print( \"Hello, World!\")"
      ]
    },
    {
      "cell_type": "markdown",
      "metadata": {
        "id": "rCC__fmNdG1a"
      },
      "source": [
        "**Question 2:** Write a Python program that takes a user input and prints it."
      ]
    },
    {
      "cell_type": "code",
      "execution_count": null,
      "metadata": {
        "id": "U0UGX6GAdG1b"
      },
      "outputs": [],
      "source": [
        "# Your code here\n",
        "user=input(\"enter something\")\n",
        "print(user)"
      ]
    },
    {
      "cell_type": "markdown",
      "metadata": {
        "id": "TUeWtyFNdG1c"
      },
      "source": [
        "**Question 3:** Write a Python program to check if a number is positive, negative, or zero."
      ]
    },
    {
      "cell_type": "code",
      "execution_count": null,
      "metadata": {
        "id": "NHPaS2AedG1d"
      },
      "outputs": [],
      "source": [
        "# Your code here\n",
        "num=int(input(\"Enter a number\"))\n",
        "if(num>0):\n",
        "  print(\"The number is positive\")\n",
        "elif(num<0):\n",
        "  print(\"The number is negative\")\n",
        "else:\n",
        "  print(\"The number is Zero\")\n"
      ]
    },
    {
      "cell_type": "markdown",
      "metadata": {
        "id": "_pwL3yTfdG1e"
      },
      "source": [
        "**Question 4:** Write a Python program to find the largest of three numbers."
      ]
    },
    {
      "cell_type": "code",
      "execution_count": null,
      "metadata": {
        "id": "XlYPmFrzdG1f"
      },
      "outputs": [],
      "source": [
        "# Your code here\n",
        "def largest(a,b,c):\n",
        "  if(a>=b and a>=c):\n",
        "    print(\"a is the largest number\")\n",
        "  elif(b>=a and b>=c):\n",
        "    print(\"b is the largest number\")\n",
        "  else:\n",
        "    print(\"c is the largest number\")"
      ]
    },
    {
      "cell_type": "markdown",
      "metadata": {
        "id": "ZZM_GbNudG1h"
      },
      "source": [
        "**Question 5:** Write a Python program to calculate the factorial of a number."
      ]
    },
    {
      "cell_type": "code",
      "execution_count": null,
      "metadata": {
        "id": "J6Iy_8w_dG1i"
      },
      "outputs": [],
      "source": [
        "def factorial(n):\n",
        "  fact=1\n",
        "  for i in range(1,n+1):\n",
        "    fact=fact*i\n",
        "   return fact"
      ]
    },
    {
      "cell_type": "markdown",
      "metadata": {
        "id": "YyN9pYHIdG1j"
      },
      "source": [
        "## 2. Variables and Data Types\n",
        "\n",
        "**Question 6:** Create variables of different data types: integer, float, string, and boolean. Print their values and types."
      ]
    },
    {
      "cell_type": "code",
      "execution_count": null,
      "metadata": {
        "id": "b7zXk4NzdG1k"
      },
      "outputs": [],
      "source": [
        "# Your code here\n",
        "#int\n",
        "a=10\n",
        "print(a)\n",
        "print(type(a))\n",
        "\n",
        "#float\n",
        "b=2.2\n",
        "print(b)\n",
        "print(type(b))\n",
        "\n",
        "#string\n",
        "c=\"vinayak\"\n",
        "print(c)\n",
        "print(type(c))\n",
        "\n",
        "#boolean\n",
        "d=True\n",
        "print(d)\n",
        "print(type(d))\n"
      ]
    },
    {
      "cell_type": "markdown",
      "metadata": {
        "id": "2sGPSOQ1dG1l"
      },
      "source": [
        "**Question 7:** Write a Python program to swap the values of two variables."
      ]
    },
    {
      "cell_type": "code",
      "execution_count": null,
      "metadata": {
        "id": "rysHOtbVdG1m"
      },
      "outputs": [],
      "source": [
        "# Your code here\n",
        "a=5\n",
        "b=6\n",
        "a,b=b,a"
      ]
    },
    {
      "cell_type": "markdown",
      "metadata": {
        "id": "QnFPdrCBdG1n"
      },
      "source": [
        "**Question 8:** Write a Python program to convert Celsius to Fahrenheit."
      ]
    },
    {
      "cell_type": "code",
      "execution_count": null,
      "metadata": {
        "id": "RiIAX61EdG1n"
      },
      "outputs": [],
      "source": [
        "# Your code here\n",
        "cel=float(input(\"Enter the value of celcius you want to convert\"))\n",
        "fahren = (cel * 9/5) + 32\n",
        "print(f\"The fahrenheit value is {fahren}\")\n"
      ]
    },
    {
      "cell_type": "markdown",
      "metadata": {
        "id": "8hlZLidTdG1n"
      },
      "source": [
        "**Question 9:** Write a Python program to concatenate two strings."
      ]
    },
    {
      "cell_type": "code",
      "execution_count": null,
      "metadata": {
        "id": "IKY3A6b5dG1o"
      },
      "outputs": [],
      "source": [
        "# Your code here\n",
        "a=\"vinayak\"\n",
        "b=\"choudhary\"\n",
        "c=a+b\n",
        "print(c)\n"
      ]
    },
    {
      "cell_type": "markdown",
      "metadata": {
        "id": "kICUQwi7dG1o"
      },
      "source": [
        "**Question 10:** Write a Python program to check if a variable is of a specific data type."
      ]
    },
    {
      "cell_type": "code",
      "execution_count": null,
      "metadata": {
        "id": "vAgYQa4AdG1o"
      },
      "outputs": [],
      "source": [
        "# Your code here"
      ]
    },
    {
      "cell_type": "markdown",
      "metadata": {
        "id": "lUn4ah3mdG1p"
      },
      "source": [
        "## 3. Basic Operators (Arithmetic, Comparison, Logical)\n",
        "\n",
        "**Question 11:** Write a Python program to perform arithmetic operations: addition, subtraction, multiplication, and division."
      ]
    },
    {
      "cell_type": "code",
      "execution_count": null,
      "metadata": {
        "id": "UOA6wUqHdG1p"
      },
      "outputs": [],
      "source": [
        "# Your code here\n",
        "a=float(\"enter the first number\")\n",
        "b=float(\"enter the second number\")\n",
        "\n",
        "add=a+b\n",
        "sub=a-b\n",
        "mul=a*b\n",
        "\n",
        "if(b>0):\n",
        "  div=a/b\n",
        "else:\n",
        "  print(\"the number cant be less than or equal to zero\")\n",
        "\n",
        "print(add)\n",
        "print(sub)\n",
        "print(mul)\n",
        "print(div)\n"
      ]
    },
    {
      "cell_type": "markdown",
      "metadata": {
        "id": "JsZtFQ4RdG1p"
      },
      "source": [
        "**Question 12:** Write a Python program to demonstrate comparison operators: equal to, not equal to, greater than, less than."
      ]
    },
    {
      "cell_type": "code",
      "execution_count": null,
      "metadata": {
        "id": "w2UobBCPdG1p"
      },
      "outputs": [],
      "source": [
        "# Your code here\n",
        "a=int(input(\"enter the first number\"))\n",
        "b=int(input(\"enter the second number\"))\n",
        "\n",
        "print(a==b)\n",
        "print(a>b)\n",
        "print(a<b)\n",
        "print(a!=b)\n"
      ]
    },
    {
      "cell_type": "markdown",
      "metadata": {
        "id": "EZqs5z91dG1p"
      },
      "source": [
        "**Question 13:** Write a Python program to demonstrate logical operators: and, or, not."
      ]
    },
    {
      "cell_type": "code",
      "execution_count": null,
      "metadata": {
        "id": "2i0EpDw4dG1q"
      },
      "outputs": [],
      "source": [
        "# Your code here\n",
        "a=True\n",
        "b=False\n",
        "\n",
        "print(a and b)\n",
        "print(a or b)\n",
        "print(not a)\n",
        "print(not b)"
      ]
    },
    {
      "cell_type": "markdown",
      "metadata": {
        "id": "58HrvA2bdG1q"
      },
      "source": [
        "**Question 14:** Write a Python program to calculate the square of a number."
      ]
    },
    {
      "cell_type": "code",
      "execution_count": null,
      "metadata": {
        "id": "hED5oB97dG1r"
      },
      "outputs": [],
      "source": [
        "# Your code here\n",
        "n=int(input(\"enter the number\"))\n",
        "print(n*n)\n"
      ]
    },
    {
      "cell_type": "markdown",
      "metadata": {
        "id": "gv1pdp1WdG1s"
      },
      "source": [
        "**Question 15:** Write a Python program to check if a number is even or odd."
      ]
    },
    {
      "cell_type": "code",
      "execution_count": null,
      "metadata": {
        "id": "G1cEvkztdG1s"
      },
      "outputs": [],
      "source": [
        "# Your code here\n",
        "n=int(input(\"enter the number\"))\n",
        "if(n%2==0):\n",
        "  print(\"The no is even\")\n",
        "else:\n",
        "  print(\"the no is odd\")\n"
      ]
    },
    {
      "cell_type": "markdown",
      "metadata": {
        "id": "93itzXBadG1t"
      },
      "source": [
        "**Question 16:** Write a Python program to find the sum of the first n natural numbers."
      ]
    },
    {
      "cell_type": "code",
      "execution_count": null,
      "metadata": {
        "id": "2c2JMmA_dG1u"
      },
      "outputs": [],
      "source": [
        "# Your code here\n",
        "n=int(input(\"enter the number\"))\n",
        "sum=0\n",
        "for i in range(1,n+1):\n",
        "  sum+=i\n",
        "print(sum)"
      ]
    },
    {
      "cell_type": "markdown",
      "metadata": {
        "id": "Ta71gvWEdG1u"
      },
      "source": [
        "**Question 17:** Write a Python program to check if a year is a leap year."
      ]
    },
    {
      "cell_type": "code",
      "execution_count": null,
      "metadata": {
        "id": "3YbiVGtNdG1v"
      },
      "outputs": [],
      "source": [
        "# Your code here\n",
        "year = int(input(\"Enter a year\"))\n",
        "if (year % 4 == 0 and year % 100 != 0) or (year % 400 == 0):\n",
        "    print(\"it is a leap year\")\n",
        "else:\n",
        "    print(\"it is not a leap year\")\n"
      ]
    },
    {
      "cell_type": "markdown",
      "metadata": {
        "id": "nSqh5xaadG1v"
      },
      "source": [
        "**Question 18:** Write a Python program to reverse a string."
      ]
    },
    {
      "cell_type": "code",
      "execution_count": null,
      "metadata": {
        "id": "p5oolqC-dG1w"
      },
      "outputs": [],
      "source": [
        "# Your code here\n",
        "strr=input(\"Enter a String you want to reverse\")\n",
        "rev=strr[::-1]\n",
        "print(f\"reversed string is {rev}\")"
      ]
    },
    {
      "cell_type": "markdown",
      "metadata": {
        "id": "-VwXyD_tdG1w"
      },
      "source": [
        "**Question 19:** Write a Python program to check if a string is a palindrome."
      ]
    },
    {
      "cell_type": "code",
      "execution_count": null,
      "metadata": {
        "id": "IOM8HJ3tdG1w"
      },
      "outputs": [],
      "source": [
        "# Your code here\n",
        "strr=input(\"Enter a String\")\n",
        "rev=strr[::-1]\n",
        "if(strr==rev):\n",
        "  print(\"It is palindrome\")\n",
        "else:\n",
        "  print(\"not plaindrome\")\n"
      ]
    },
    {
      "cell_type": "markdown",
      "metadata": {
        "id": "7zzIarVbdG15"
      },
      "source": [
        "**Question 20:** Write a Python program to sort a list of numbers in ascending order."
      ]
    },
    {
      "cell_type": "code",
      "execution_count": null,
      "metadata": {
        "id": "cn_AtH83dG16"
      },
      "outputs": [],
      "source": [
        "# Your code here\n",
        "lis=[3,4,2,1]\n",
        "lis.sort()\n",
        "print(lis)"
      ]
    }
  ],
  "metadata": {
    "kernelspec": {
      "display_name": "Python 3",
      "language": "python",
      "name": "python3"
    },
    "language_info": {
      "codemirror_mode": {
        "name": "ipython",
        "version": 3
      },
      "file_extension": ".py",
      "mimetype": "text/x-python",
      "name": "python",
      "nbconvert_exporter": "python",
      "pygments_lexer": "ipython3",
      "version": "3.8.5"
    },
    "colab": {
      "provenance": []
    }
  },
  "nbformat": 4,
  "nbformat_minor": 0
}